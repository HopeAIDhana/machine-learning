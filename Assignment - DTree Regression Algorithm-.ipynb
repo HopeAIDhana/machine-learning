{
 "cells": [
  {
   "cell_type": "code",
   "execution_count": 1,
   "id": "519dce91",
   "metadata": {},
   "outputs": [],
   "source": [
    "import pandas as pd"
   ]
  },
  {
   "cell_type": "code",
   "execution_count": 2,
   "id": "c4df713b",
   "metadata": {},
   "outputs": [],
   "source": [
    "dataset=pd.read_csv(\"insurance_pre.csv\")"
   ]
  },
  {
   "cell_type": "code",
   "execution_count": 3,
   "id": "847e61d8",
   "metadata": {},
   "outputs": [
    {
     "data": {
      "text/html": [
       "<div>\n",
       "<style scoped>\n",
       "    .dataframe tbody tr th:only-of-type {\n",
       "        vertical-align: middle;\n",
       "    }\n",
       "\n",
       "    .dataframe tbody tr th {\n",
       "        vertical-align: top;\n",
       "    }\n",
       "\n",
       "    .dataframe thead th {\n",
       "        text-align: right;\n",
       "    }\n",
       "</style>\n",
       "<table border=\"1\" class=\"dataframe\">\n",
       "  <thead>\n",
       "    <tr style=\"text-align: right;\">\n",
       "      <th></th>\n",
       "      <th>age</th>\n",
       "      <th>sex</th>\n",
       "      <th>bmi</th>\n",
       "      <th>children</th>\n",
       "      <th>smoker</th>\n",
       "      <th>charges</th>\n",
       "    </tr>\n",
       "  </thead>\n",
       "  <tbody>\n",
       "    <tr>\n",
       "      <th>0</th>\n",
       "      <td>19</td>\n",
       "      <td>female</td>\n",
       "      <td>27.900</td>\n",
       "      <td>0</td>\n",
       "      <td>yes</td>\n",
       "      <td>16884.92400</td>\n",
       "    </tr>\n",
       "    <tr>\n",
       "      <th>1</th>\n",
       "      <td>18</td>\n",
       "      <td>male</td>\n",
       "      <td>33.770</td>\n",
       "      <td>1</td>\n",
       "      <td>no</td>\n",
       "      <td>1725.55230</td>\n",
       "    </tr>\n",
       "    <tr>\n",
       "      <th>2</th>\n",
       "      <td>28</td>\n",
       "      <td>male</td>\n",
       "      <td>33.000</td>\n",
       "      <td>3</td>\n",
       "      <td>no</td>\n",
       "      <td>4449.46200</td>\n",
       "    </tr>\n",
       "    <tr>\n",
       "      <th>3</th>\n",
       "      <td>33</td>\n",
       "      <td>male</td>\n",
       "      <td>22.705</td>\n",
       "      <td>0</td>\n",
       "      <td>no</td>\n",
       "      <td>21984.47061</td>\n",
       "    </tr>\n",
       "    <tr>\n",
       "      <th>4</th>\n",
       "      <td>32</td>\n",
       "      <td>male</td>\n",
       "      <td>28.880</td>\n",
       "      <td>0</td>\n",
       "      <td>no</td>\n",
       "      <td>3866.85520</td>\n",
       "    </tr>\n",
       "    <tr>\n",
       "      <th>...</th>\n",
       "      <td>...</td>\n",
       "      <td>...</td>\n",
       "      <td>...</td>\n",
       "      <td>...</td>\n",
       "      <td>...</td>\n",
       "      <td>...</td>\n",
       "    </tr>\n",
       "    <tr>\n",
       "      <th>1333</th>\n",
       "      <td>50</td>\n",
       "      <td>male</td>\n",
       "      <td>30.970</td>\n",
       "      <td>3</td>\n",
       "      <td>no</td>\n",
       "      <td>10600.54830</td>\n",
       "    </tr>\n",
       "    <tr>\n",
       "      <th>1334</th>\n",
       "      <td>18</td>\n",
       "      <td>female</td>\n",
       "      <td>31.920</td>\n",
       "      <td>0</td>\n",
       "      <td>no</td>\n",
       "      <td>2205.98080</td>\n",
       "    </tr>\n",
       "    <tr>\n",
       "      <th>1335</th>\n",
       "      <td>18</td>\n",
       "      <td>female</td>\n",
       "      <td>36.850</td>\n",
       "      <td>0</td>\n",
       "      <td>no</td>\n",
       "      <td>1629.83350</td>\n",
       "    </tr>\n",
       "    <tr>\n",
       "      <th>1336</th>\n",
       "      <td>21</td>\n",
       "      <td>female</td>\n",
       "      <td>25.800</td>\n",
       "      <td>0</td>\n",
       "      <td>no</td>\n",
       "      <td>2007.94500</td>\n",
       "    </tr>\n",
       "    <tr>\n",
       "      <th>1337</th>\n",
       "      <td>61</td>\n",
       "      <td>female</td>\n",
       "      <td>29.070</td>\n",
       "      <td>0</td>\n",
       "      <td>yes</td>\n",
       "      <td>29141.36030</td>\n",
       "    </tr>\n",
       "  </tbody>\n",
       "</table>\n",
       "<p>1338 rows × 6 columns</p>\n",
       "</div>"
      ],
      "text/plain": [
       "      age     sex     bmi  children smoker      charges\n",
       "0      19  female  27.900         0    yes  16884.92400\n",
       "1      18    male  33.770         1     no   1725.55230\n",
       "2      28    male  33.000         3     no   4449.46200\n",
       "3      33    male  22.705         0     no  21984.47061\n",
       "4      32    male  28.880         0     no   3866.85520\n",
       "...   ...     ...     ...       ...    ...          ...\n",
       "1333   50    male  30.970         3     no  10600.54830\n",
       "1334   18  female  31.920         0     no   2205.98080\n",
       "1335   18  female  36.850         0     no   1629.83350\n",
       "1336   21  female  25.800         0     no   2007.94500\n",
       "1337   61  female  29.070         0    yes  29141.36030\n",
       "\n",
       "[1338 rows x 6 columns]"
      ]
     },
     "execution_count": 3,
     "metadata": {},
     "output_type": "execute_result"
    }
   ],
   "source": [
    "dataset"
   ]
  },
  {
   "cell_type": "code",
   "execution_count": 4,
   "id": "157fd748",
   "metadata": {},
   "outputs": [
    {
     "data": {
      "text/html": [
       "<div>\n",
       "<style scoped>\n",
       "    .dataframe tbody tr th:only-of-type {\n",
       "        vertical-align: middle;\n",
       "    }\n",
       "\n",
       "    .dataframe tbody tr th {\n",
       "        vertical-align: top;\n",
       "    }\n",
       "\n",
       "    .dataframe thead th {\n",
       "        text-align: right;\n",
       "    }\n",
       "</style>\n",
       "<table border=\"1\" class=\"dataframe\">\n",
       "  <thead>\n",
       "    <tr style=\"text-align: right;\">\n",
       "      <th></th>\n",
       "      <th>age</th>\n",
       "      <th>bmi</th>\n",
       "      <th>children</th>\n",
       "      <th>charges</th>\n",
       "      <th>sex_male</th>\n",
       "      <th>smoker_yes</th>\n",
       "    </tr>\n",
       "  </thead>\n",
       "  <tbody>\n",
       "    <tr>\n",
       "      <th>0</th>\n",
       "      <td>19</td>\n",
       "      <td>27</td>\n",
       "      <td>0</td>\n",
       "      <td>16884</td>\n",
       "      <td>0</td>\n",
       "      <td>1</td>\n",
       "    </tr>\n",
       "    <tr>\n",
       "      <th>1</th>\n",
       "      <td>18</td>\n",
       "      <td>33</td>\n",
       "      <td>1</td>\n",
       "      <td>1725</td>\n",
       "      <td>1</td>\n",
       "      <td>0</td>\n",
       "    </tr>\n",
       "    <tr>\n",
       "      <th>2</th>\n",
       "      <td>28</td>\n",
       "      <td>33</td>\n",
       "      <td>3</td>\n",
       "      <td>4449</td>\n",
       "      <td>1</td>\n",
       "      <td>0</td>\n",
       "    </tr>\n",
       "    <tr>\n",
       "      <th>3</th>\n",
       "      <td>33</td>\n",
       "      <td>22</td>\n",
       "      <td>0</td>\n",
       "      <td>21984</td>\n",
       "      <td>1</td>\n",
       "      <td>0</td>\n",
       "    </tr>\n",
       "    <tr>\n",
       "      <th>4</th>\n",
       "      <td>32</td>\n",
       "      <td>28</td>\n",
       "      <td>0</td>\n",
       "      <td>3866</td>\n",
       "      <td>1</td>\n",
       "      <td>0</td>\n",
       "    </tr>\n",
       "    <tr>\n",
       "      <th>...</th>\n",
       "      <td>...</td>\n",
       "      <td>...</td>\n",
       "      <td>...</td>\n",
       "      <td>...</td>\n",
       "      <td>...</td>\n",
       "      <td>...</td>\n",
       "    </tr>\n",
       "    <tr>\n",
       "      <th>1333</th>\n",
       "      <td>50</td>\n",
       "      <td>30</td>\n",
       "      <td>3</td>\n",
       "      <td>10600</td>\n",
       "      <td>1</td>\n",
       "      <td>0</td>\n",
       "    </tr>\n",
       "    <tr>\n",
       "      <th>1334</th>\n",
       "      <td>18</td>\n",
       "      <td>31</td>\n",
       "      <td>0</td>\n",
       "      <td>2205</td>\n",
       "      <td>0</td>\n",
       "      <td>0</td>\n",
       "    </tr>\n",
       "    <tr>\n",
       "      <th>1335</th>\n",
       "      <td>18</td>\n",
       "      <td>36</td>\n",
       "      <td>0</td>\n",
       "      <td>1629</td>\n",
       "      <td>0</td>\n",
       "      <td>0</td>\n",
       "    </tr>\n",
       "    <tr>\n",
       "      <th>1336</th>\n",
       "      <td>21</td>\n",
       "      <td>25</td>\n",
       "      <td>0</td>\n",
       "      <td>2007</td>\n",
       "      <td>0</td>\n",
       "      <td>0</td>\n",
       "    </tr>\n",
       "    <tr>\n",
       "      <th>1337</th>\n",
       "      <td>61</td>\n",
       "      <td>29</td>\n",
       "      <td>0</td>\n",
       "      <td>29141</td>\n",
       "      <td>0</td>\n",
       "      <td>1</td>\n",
       "    </tr>\n",
       "  </tbody>\n",
       "</table>\n",
       "<p>1338 rows × 6 columns</p>\n",
       "</div>"
      ],
      "text/plain": [
       "      age  bmi  children  charges  sex_male  smoker_yes\n",
       "0      19   27         0    16884         0           1\n",
       "1      18   33         1     1725         1           0\n",
       "2      28   33         3     4449         1           0\n",
       "3      33   22         0    21984         1           0\n",
       "4      32   28         0     3866         1           0\n",
       "...   ...  ...       ...      ...       ...         ...\n",
       "1333   50   30         3    10600         1           0\n",
       "1334   18   31         0     2205         0           0\n",
       "1335   18   36         0     1629         0           0\n",
       "1336   21   25         0     2007         0           0\n",
       "1337   61   29         0    29141         0           1\n",
       "\n",
       "[1338 rows x 6 columns]"
      ]
     },
     "execution_count": 4,
     "metadata": {},
     "output_type": "execute_result"
    }
   ],
   "source": [
    "dataset=pd.get_dummies(dataset,drop_first=True)\n",
    "dataset=dataset.astype(int)\n",
    "dataset"
   ]
  },
  {
   "cell_type": "code",
   "execution_count": 5,
   "id": "ecb979c5",
   "metadata": {},
   "outputs": [
    {
     "data": {
      "text/plain": [
       "Index(['age', 'bmi', 'children', 'charges', 'sex_male', 'smoker_yes'], dtype='object')"
      ]
     },
     "execution_count": 5,
     "metadata": {},
     "output_type": "execute_result"
    }
   ],
   "source": [
    "dataset.columns"
   ]
  },
  {
   "cell_type": "code",
   "execution_count": 6,
   "id": "e2d86028",
   "metadata": {},
   "outputs": [
    {
     "data": {
      "text/html": [
       "<div>\n",
       "<style scoped>\n",
       "    .dataframe tbody tr th:only-of-type {\n",
       "        vertical-align: middle;\n",
       "    }\n",
       "\n",
       "    .dataframe tbody tr th {\n",
       "        vertical-align: top;\n",
       "    }\n",
       "\n",
       "    .dataframe thead th {\n",
       "        text-align: right;\n",
       "    }\n",
       "</style>\n",
       "<table border=\"1\" class=\"dataframe\">\n",
       "  <thead>\n",
       "    <tr style=\"text-align: right;\">\n",
       "      <th></th>\n",
       "      <th>age</th>\n",
       "      <th>bmi</th>\n",
       "      <th>children</th>\n",
       "      <th>sex_male</th>\n",
       "      <th>smoker_yes</th>\n",
       "    </tr>\n",
       "  </thead>\n",
       "  <tbody>\n",
       "    <tr>\n",
       "      <th>0</th>\n",
       "      <td>19</td>\n",
       "      <td>27</td>\n",
       "      <td>0</td>\n",
       "      <td>0</td>\n",
       "      <td>1</td>\n",
       "    </tr>\n",
       "    <tr>\n",
       "      <th>1</th>\n",
       "      <td>18</td>\n",
       "      <td>33</td>\n",
       "      <td>1</td>\n",
       "      <td>1</td>\n",
       "      <td>0</td>\n",
       "    </tr>\n",
       "    <tr>\n",
       "      <th>2</th>\n",
       "      <td>28</td>\n",
       "      <td>33</td>\n",
       "      <td>3</td>\n",
       "      <td>1</td>\n",
       "      <td>0</td>\n",
       "    </tr>\n",
       "    <tr>\n",
       "      <th>3</th>\n",
       "      <td>33</td>\n",
       "      <td>22</td>\n",
       "      <td>0</td>\n",
       "      <td>1</td>\n",
       "      <td>0</td>\n",
       "    </tr>\n",
       "    <tr>\n",
       "      <th>4</th>\n",
       "      <td>32</td>\n",
       "      <td>28</td>\n",
       "      <td>0</td>\n",
       "      <td>1</td>\n",
       "      <td>0</td>\n",
       "    </tr>\n",
       "    <tr>\n",
       "      <th>...</th>\n",
       "      <td>...</td>\n",
       "      <td>...</td>\n",
       "      <td>...</td>\n",
       "      <td>...</td>\n",
       "      <td>...</td>\n",
       "    </tr>\n",
       "    <tr>\n",
       "      <th>1333</th>\n",
       "      <td>50</td>\n",
       "      <td>30</td>\n",
       "      <td>3</td>\n",
       "      <td>1</td>\n",
       "      <td>0</td>\n",
       "    </tr>\n",
       "    <tr>\n",
       "      <th>1334</th>\n",
       "      <td>18</td>\n",
       "      <td>31</td>\n",
       "      <td>0</td>\n",
       "      <td>0</td>\n",
       "      <td>0</td>\n",
       "    </tr>\n",
       "    <tr>\n",
       "      <th>1335</th>\n",
       "      <td>18</td>\n",
       "      <td>36</td>\n",
       "      <td>0</td>\n",
       "      <td>0</td>\n",
       "      <td>0</td>\n",
       "    </tr>\n",
       "    <tr>\n",
       "      <th>1336</th>\n",
       "      <td>21</td>\n",
       "      <td>25</td>\n",
       "      <td>0</td>\n",
       "      <td>0</td>\n",
       "      <td>0</td>\n",
       "    </tr>\n",
       "    <tr>\n",
       "      <th>1337</th>\n",
       "      <td>61</td>\n",
       "      <td>29</td>\n",
       "      <td>0</td>\n",
       "      <td>0</td>\n",
       "      <td>1</td>\n",
       "    </tr>\n",
       "  </tbody>\n",
       "</table>\n",
       "<p>1338 rows × 5 columns</p>\n",
       "</div>"
      ],
      "text/plain": [
       "      age  bmi  children  sex_male  smoker_yes\n",
       "0      19   27         0         0           1\n",
       "1      18   33         1         1           0\n",
       "2      28   33         3         1           0\n",
       "3      33   22         0         1           0\n",
       "4      32   28         0         1           0\n",
       "...   ...  ...       ...       ...         ...\n",
       "1333   50   30         3         1           0\n",
       "1334   18   31         0         0           0\n",
       "1335   18   36         0         0           0\n",
       "1336   21   25         0         0           0\n",
       "1337   61   29         0         0           1\n",
       "\n",
       "[1338 rows x 5 columns]"
      ]
     },
     "execution_count": 6,
     "metadata": {},
     "output_type": "execute_result"
    }
   ],
   "source": [
    "independent=dataset[['age','bmi', 'children','sex_male', 'smoker_yes']]\n",
    "independent"
   ]
  },
  {
   "cell_type": "code",
   "execution_count": 7,
   "id": "4394d29a",
   "metadata": {},
   "outputs": [
    {
     "data": {
      "text/html": [
       "<div>\n",
       "<style scoped>\n",
       "    .dataframe tbody tr th:only-of-type {\n",
       "        vertical-align: middle;\n",
       "    }\n",
       "\n",
       "    .dataframe tbody tr th {\n",
       "        vertical-align: top;\n",
       "    }\n",
       "\n",
       "    .dataframe thead th {\n",
       "        text-align: right;\n",
       "    }\n",
       "</style>\n",
       "<table border=\"1\" class=\"dataframe\">\n",
       "  <thead>\n",
       "    <tr style=\"text-align: right;\">\n",
       "      <th></th>\n",
       "      <th>charges</th>\n",
       "    </tr>\n",
       "  </thead>\n",
       "  <tbody>\n",
       "    <tr>\n",
       "      <th>0</th>\n",
       "      <td>16884</td>\n",
       "    </tr>\n",
       "    <tr>\n",
       "      <th>1</th>\n",
       "      <td>1725</td>\n",
       "    </tr>\n",
       "    <tr>\n",
       "      <th>2</th>\n",
       "      <td>4449</td>\n",
       "    </tr>\n",
       "    <tr>\n",
       "      <th>3</th>\n",
       "      <td>21984</td>\n",
       "    </tr>\n",
       "    <tr>\n",
       "      <th>4</th>\n",
       "      <td>3866</td>\n",
       "    </tr>\n",
       "    <tr>\n",
       "      <th>...</th>\n",
       "      <td>...</td>\n",
       "    </tr>\n",
       "    <tr>\n",
       "      <th>1333</th>\n",
       "      <td>10600</td>\n",
       "    </tr>\n",
       "    <tr>\n",
       "      <th>1334</th>\n",
       "      <td>2205</td>\n",
       "    </tr>\n",
       "    <tr>\n",
       "      <th>1335</th>\n",
       "      <td>1629</td>\n",
       "    </tr>\n",
       "    <tr>\n",
       "      <th>1336</th>\n",
       "      <td>2007</td>\n",
       "    </tr>\n",
       "    <tr>\n",
       "      <th>1337</th>\n",
       "      <td>29141</td>\n",
       "    </tr>\n",
       "  </tbody>\n",
       "</table>\n",
       "<p>1338 rows × 1 columns</p>\n",
       "</div>"
      ],
      "text/plain": [
       "      charges\n",
       "0       16884\n",
       "1        1725\n",
       "2        4449\n",
       "3       21984\n",
       "4        3866\n",
       "...       ...\n",
       "1333    10600\n",
       "1334     2205\n",
       "1335     1629\n",
       "1336     2007\n",
       "1337    29141\n",
       "\n",
       "[1338 rows x 1 columns]"
      ]
     },
     "execution_count": 7,
     "metadata": {},
     "output_type": "execute_result"
    }
   ],
   "source": [
    "dependent=dataset[[\"charges\"]]\n",
    "dependent"
   ]
  },
  {
   "cell_type": "code",
   "execution_count": 8,
   "id": "b2e3b452",
   "metadata": {},
   "outputs": [],
   "source": [
    "from sklearn.model_selection import train_test_split\n",
    "X_train,X_test,y_train,y_test=train_test_split(independent,dependent, test_size=0.30, random_state=0)"
   ]
  },
  {
   "cell_type": "code",
   "execution_count": 22,
   "id": "b6fb7179",
   "metadata": {},
   "outputs": [],
   "source": [
    "from sklearn.tree import DecisionTreeRegressor\n",
    "regressor=DecisionTreeRegressor()\n",
    "regressor=regressor.fit(X_train,y_train)"
   ]
  },
  {
   "cell_type": "code",
   "execution_count": 10,
   "id": "a71c8e5d",
   "metadata": {},
   "outputs": [
    {
     "data": {
      "image/png": "[encoded data removed]",
      "text/plain": [
       "<Figure size 640x480 with 1 Axes>"
      ]
     },
     "metadata": {},
     "output_type": "display_data"
    }
   ],
   "source": [
    "import matplotlib.pyplot as plt\n",
    "from sklearn import tree\n",
    "tree.plot_tree(regressor,filled=True)\n",
    "plt.show()"
   ]
  },
  {
   "cell_type": "code",
   "execution_count": 11,
   "id": "8704d25e",
   "metadata": {},
   "outputs": [
    {
     "data": {
      "text/plain": [
       "array([10085.        ,  8930.        , 44202.        , 13143.        ,\n",
       "        9264.        , 21984.        ,  1615.        , 10848.        ,\n",
       "        7144.        ,  5253.        ,  7228.        , 30284.        ,\n",
       "       32108.        ,  4992.        , 20745.        , 10264.        ,\n",
       "       12629.        ,  3292.        ,  6455.        , 33307.        ,\n",
       "       24667.        , 10806.        ,  9625.        , 21774.        ,\n",
       "        1391.        ,  4076.        ,  3161.        ,  7209.        ,\n",
       "        3353.        ,  8520.        ,  7201.        , 47896.        ,\n",
       "       13981.        , 10713.        , 16115.        ,  3554.        ,\n",
       "        8978.        , 44585.        , 40941.        ,  1880.        ,\n",
       "       21984.        ,  2866.        , 21659.        , 44641.        ,\n",
       "       36307.        ,  3579.        , 10106.        ,  7046.        ,\n",
       "        4719.        , 11830.        ,  2664.        ,  4296.        ,\n",
       "       26109.        , 60021.        , 11856.        , 19673.        ,\n",
       "        3021.        ,  8442.        , 10096.        , 12913.        ,\n",
       "        1252.        , 46130.        , 14298.5       , 25333.        ,\n",
       "       26392.        ,  9877.        , 33307.        , 37607.        ,\n",
       "        2913.        , 15828.        , 24513.        , 10436.        ,\n",
       "       16297.        , 13887.        , 12629.        , 24513.        ,\n",
       "        7526.        ,  8116.        , 19539.        , 48824.        ,\n",
       "       11657.5       , 46113.        ,  9056.        , 17929.        ,\n",
       "       39047.        , 19361.        ,  3292.        ,  2727.        ,\n",
       "       12913.        , 36950.        ,  6128.        , 10796.        ,\n",
       "        3201.        ,  8516.        , 14358.        ,  4149.        ,\n",
       "       41999.        , 39556.        ,  4949.        , 11090.        ,\n",
       "        1981.        ,  5373.        ,  4922.        , 37270.        ,\n",
       "       24915.        ,  3558.        , 11165.        ,  3171.5       ,\n",
       "       11743.        , 45008.        , 12094.        ,  4753.        ,\n",
       "        8703.        , 33750.        , 47462.        ,  7256.        ,\n",
       "        2103.        ,  8442.        , 31620.        ,  9101.        ,\n",
       "       40103.        , 10197.        , 14901.        ,  5253.        ,\n",
       "       28340.        ,  4719.        , 21774.        , 35069.        ,\n",
       "       48673.        ,  1534.        , 32108.        ,  1980.        ,\n",
       "        5974.        ,  8688.        , 62592.        , 37079.        ,\n",
       "       21259.        , 10156.        , 21195.        ,  1815.        ,\n",
       "        1877.        , 10796.        ,  8978.        , 10601.        ,\n",
       "       14358.        , 14901.        , 31620.        , 22395.        ,\n",
       "        1369.66666667, 10791.        ,  5974.        , 38126.        ,\n",
       "        8835.        ,  1980.        ,  2719.        ,  6393.        ,\n",
       "        1980.        , 11272.        , 10264.        ,  9414.        ,\n",
       "        4449.        , 13405.        , 24513.        ,  8798.        ,\n",
       "        4134.        ,  4915.        , 20167.        ,  5693.        ,\n",
       "        4239.        ,  1633.        ,  4438.        ,  3847.        ,\n",
       "        7441.        ,  1826.        ,  4449.        ,  4915.        ,\n",
       "        3847.        ,  7173.        , 25309.        ,  1712.        ,\n",
       "       13607.        ,  7281.        , 11743.        , 19673.        ,\n",
       "        4766.        , 28868.        ,  9056.        ,  2710.        ,\n",
       "       14901.        , 10043.        , 39727.        ,  3500.        ,\n",
       "        5266.        , 23887.        ,  3021.        , 12609.        ,\n",
       "        6311.        ,  5375.        ,  3471.        ,  4239.        ,\n",
       "       10928.        , 47055.        , 29186.        , 18259.        ,\n",
       "       18157.        , 42211.        ,  3484.        , 10564.        ,\n",
       "        5989.        ,  1146.        ,  8964.        , 13880.        ,\n",
       "        5615.        ,  2664.        ,  6961.5       , 12609.        ,\n",
       "        6648.        ,  4766.        , 14001.        ,  6985.        ,\n",
       "       24915.        ,  7985.        ,  8601.        ,  3176.        ,\n",
       "       12231.        , 14410.        , 33471.        , 11830.        ,\n",
       "        7033.        ,  2523.        ,  1135.5       ,  8083.        ,\n",
       "       21797.        ,  4687.        ,  4719.        ,  7256.        ,\n",
       "        9447.        , 34472.        ,  5488.        , 12094.        ,\n",
       "        5415.        , 44585.        ,  7265.        ,  7419.        ,\n",
       "        7441.        , 10085.        ,  3077.        ,  7633.        ,\n",
       "        1515.        ,  6272.        , 20745.        , 47291.        ,\n",
       "        3500.        ,  3227.        ,  2200.        ,  1702.        ,\n",
       "       17929.        ,  2211.        ,  5080.        , 23288.        ,\n",
       "        9193.        , 21774.        , 46599.        , 16069.        ,\n",
       "        6961.5       , 11274.        , 37484.        ,  8604.        ,\n",
       "       39047.        ,  1137.        , 44585.        ,  5152.        ,\n",
       "       12430.        ,  3309.        , 40273.        ,  5012.        ,\n",
       "       10072.        ,  8604.        ,  1980.        , 12913.        ,\n",
       "       12224.        , 14358.        , 21202.5       , 11773.5       ,\n",
       "        6082.        ,  4466.        ,  8965.        , 21880.        ,\n",
       "        3292.        ,  1510.        ,  2304.        , 48824.        ,\n",
       "        8442.        ,  4149.        , 10806.        , 10928.        ,\n",
       "       36898.        ,  6389.        ,  5373.        ,  9048.        ,\n",
       "        1639.        ,  1980.        , 15006.        , 15817.        ,\n",
       "       24513.        ,  2523.        ,  3227.        ,  7726.        ,\n",
       "       10564.        , 20167.        , 19719.        , 24915.        ,\n",
       "       20167.        ,  2459.        ,  6610.        , 14358.        ,\n",
       "       26236.        ,  2304.        ,  7419.        , 48885.        ,\n",
       "        3579.        ,  3956.        ,  1731.        , 20878.        ,\n",
       "        3171.5       , 12029.        , 47055.        , 16657.        ,\n",
       "        8964.        , 41949.        , 10806.        , 19442.        ,\n",
       "        9174.        ,  4466.        , 27808.        ,  4350.        ,\n",
       "       13415.        ,  2221.        , 16884.        ,  3176.        ,\n",
       "       24869.        , 28476.        , 12609.        , 37484.        ,\n",
       "        5693.        ,  5267.        , 25309.        ,  1639.        ,\n",
       "        7726.        ,  2304.        , 10141.        ,  3208.        ,\n",
       "        4536.        ,  5253.        , 44423.        ,  7526.        ,\n",
       "       37701.        , 37484.        ,  5488.        , 15828.        ,\n",
       "        1252.        ,  3558.        ,  2719.        ,  8068.        ,\n",
       "       44641.        , 11931.        ,  1731.        , 12124.        ,\n",
       "        2020.        , 17929.        , 20277.        ,  1826.        ,\n",
       "        3392.        , 36307.        ,  7033.        ,  2196.        ,\n",
       "       39774.        , 10601.        , 41919.        , 11931.        ,\n",
       "        4076.        ,  2775.        ,  2457.        , 25333.        ,\n",
       "        4747.        ,  1621.5       , 10959.        ,  7144.        ,\n",
       "        5966.        ,  3500.        , 13126.        , 37484.        ,\n",
       "        9056.        ,  9861.        ,  7882.        , 28476.        ,\n",
       "       11090.        ,  3766.        , 15518.        , 10713.        ,\n",
       "       16085.        , 24513.        ])"
      ]
     },
     "execution_count": 11,
     "metadata": {},
     "output_type": "execute_result"
    }
   ],
   "source": [
    "y_pred=regressor.predict(X_test)\n",
    "y_pred"
   ]
  },
  {
   "cell_type": "code",
   "execution_count": 12,
   "id": "a79de117",
   "metadata": {},
   "outputs": [
    {
     "data": {
      "text/plain": [
       "0.7027630213278424"
      ]
     },
     "execution_count": 12,
     "metadata": {},
     "output_type": "execute_result"
    }
   ],
   "source": [
    "from sklearn.metrics import r2_score\n",
    "r_score=r2_score(y_test,y_pred)\n",
    "r_score"
   ]
  },
  {
   "cell_type": "code",
   "execution_count": 13,
   "id": "aa7e649c",
   "metadata": {},
   "outputs": [
    {
     "data": {
      "text/plain": [
       "array([0.15515622, 0.20376264, 0.03466826, 0.00830748, 0.5981054 ])"
      ]
     },
     "execution_count": 13,
     "metadata": {},
     "output_type": "execute_result"
    }
   ],
   "source": [
    "regressor.feature_importances_"
   ]
  },
  {
   "cell_type": "code",
   "execution_count": 14,
   "id": "59037a12",
   "metadata": {},
   "outputs": [
    {
     "data": {
      "text/plain": [
       "5"
      ]
     },
     "execution_count": 14,
     "metadata": {},
     "output_type": "execute_result"
    }
   ],
   "source": [
    "regressor.max_features_"
   ]
  },
  {
   "cell_type": "code",
   "execution_count": 15,
   "id": "3e3fc5e5",
   "metadata": {},
   "outputs": [
    {
     "data": {
      "text/plain": [
       "<sklearn.tree._tree.Tree at 0x1eeb30cd0d0>"
      ]
     },
     "execution_count": 15,
     "metadata": {},
     "output_type": "execute_result"
    }
   ],
   "source": [
    "regressor.tree_"
   ]
  },
  {
   "cell_type": "code",
   "execution_count": 16,
   "id": "22a1ee5f",
   "metadata": {},
   "outputs": [],
   "source": [
    "import pickle\n",
    "filename='Finalized_Insurance_DecisionTree_Regresion.sav'"
   ]
  },
  {
   "cell_type": "code",
   "execution_count": 17,
   "id": "23edf4a4",
   "metadata": {},
   "outputs": [],
   "source": [
    "pickle.dump(regressor,open(filename,'wb'))"
   ]
  },
  {
   "cell_type": "code",
   "execution_count": 18,
   "id": "202dcc80",
   "metadata": {},
   "outputs": [],
   "source": [
    "loaded_model=pickle.load(open(\"Finalized_Insurance_DecisionTree_Regresion.sav\",'rb'))"
   ]
  },
  {
   "cell_type": "code",
   "execution_count": 19,
   "id": "bd489b39",
   "metadata": {},
   "outputs": [
    {
     "name": "stdout",
     "output_type": "stream",
     "text": [
      "Age :9\n",
      "BMI :27\n",
      "Children:0\n",
      "Sex 0 or 1 :0\n",
      "Smoker 0 or 1 :1\n"
     ]
    }
   ],
   "source": [
    "#input Parameter\n",
    "age_input=float(input(\"Age :\")) \n",
    "bmi_input=float(input(\"BMI :\"))\n",
    "child_input=float(input(\"Children:\"))\n",
    "sex_input=int(input(\"Sex 0 or 1 :\"))\n",
    "smok_input=int(input(\"Smoker 0 or 1 :\"))"
   ]
  },
  {
   "cell_type": "code",
   "execution_count": 20,
   "id": "b084e09d",
   "metadata": {},
   "outputs": [
    {
     "name": "stdout",
     "output_type": "stream",
     "text": [
      "Predicted Charges : [16884.]\n"
     ]
    },
    {
     "name": "stderr",
     "output_type": "stream",
     "text": [
      "C:\\ProgramData\\anaconda3\\Lib\\site-packages\\sklearn\\base.py:464: UserWarning: X does not have valid feature names, but DecisionTreeRegressor was fitted with feature names\n",
      "  warnings.warn(\n"
     ]
    }
   ],
   "source": [
    "result=loaded_model.predict([[age_input, bmi_input, child_input, sex_input, smok_input]])\n",
    "print(\"Predicted Charges :\",result)"
   ]
  }
 ],
 "metadata": {
  "kernelspec": {
   "display_name": "Python 3 (ipykernel)",
   "language": "python",
   "name": "python3"
  },
  "language_info": {
   "codemirror_mode": {
    "name": "ipython",
    "version": 3
   },
   "file_extension": ".py",
   "mimetype": "text/x-python",
   "name": "python",
   "nbconvert_exporter": "python",
   "pygments_lexer": "ipython3",
   "version": "3.11.5"
  }
 },
 "nbformat": 4,
 "nbformat_minor": 5
}
