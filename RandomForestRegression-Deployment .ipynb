{
 "cells": [
  {
   "cell_type": "code",
   "execution_count": 1,
   "id": "b06a8274",
   "metadata": {},
   "outputs": [],
   "source": [
    "import pickle\n",
    "filename='Finalized_model_Forest.sav'"
   ]
  },
  {
   "cell_type": "code",
   "execution_count": 2,
   "id": "57177f28",
   "metadata": {},
   "outputs": [],
   "source": [
    "loaded_model=pickle.load(open(\"Finalized_Model_Forest.sav\",'rb'))"
   ]
  },
  {
   "cell_type": "code",
   "execution_count": 3,
   "id": "eba00c1c",
   "metadata": {},
   "outputs": [
    {
     "name": "stdout",
     "output_type": "stream",
     "text": [
      "R&D :153441\n",
      "Admin  :101145\n",
      "Marketing :407934\n",
      "State_flo 0 or 1 :1\n",
      "State_new 0 or 1 :0\n"
     ]
    }
   ],
   "source": [
    "#input Parameter\n",
    "rd_input=float(input(\"R&D :\")) \n",
    "admin_input=float(input(\"Admin  :\"))\n",
    "mark_input=float(input(\"Marketing :\"))\n",
    "flo_input=int(input(\"State_flo 0 or 1 :\"))\n",
    "new_input=int(input(\"State_new 0 or 1 :\"))"
   ]
  },
  {
   "cell_type": "code",
   "execution_count": 4,
   "id": "4444461a",
   "metadata": {},
   "outputs": [
    {
     "name": "stdout",
     "output_type": "stream",
     "text": [
      "Predicted Profit : [182692.22]\n"
     ]
    },
    {
     "name": "stderr",
     "output_type": "stream",
     "text": [
      "C:\\ProgramData\\anaconda3\\Lib\\site-packages\\sklearn\\base.py:464: UserWarning: X does not have valid feature names, but RandomForestRegressor was fitted with feature names\n",
      "  warnings.warn(\n"
     ]
    }
   ],
   "source": [
    "result=loaded_model.predict([[rd_input, admin_input, mark_input, flo_input, new_input]])\n",
    "print(\"Predicted Profit :\",result)"
   ]
  }
 ],
 "metadata": {
  "kernelspec": {
   "display_name": "Python 3 (ipykernel)",
   "language": "python",
   "name": "python3"
  },
  "language_info": {
   "codemirror_mode": {
    "name": "ipython",
    "version": 3
   },
   "file_extension": ".py",
   "mimetype": "text/x-python",
   "name": "python",
   "nbconvert_exporter": "python",
   "pygments_lexer": "ipython3",
   "version": "3.11.5"
  }
 },
 "nbformat": 4,
 "nbformat_minor": 5
}
