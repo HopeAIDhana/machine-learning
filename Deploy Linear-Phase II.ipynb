{
 "cells": [
  {
   "cell_type": "code",
   "execution_count": 1,
   "id": "254c1d68",
   "metadata": {},
   "outputs": [],
   "source": [
    "#phase II, deployment\n",
    "#import libraries\n",
    "import pickle"
   ]
  },
  {
   "cell_type": "code",
   "execution_count": 2,
   "id": "6b626fca",
   "metadata": {},
   "outputs": [],
   "source": [
    "#saved final model loaded in read mode\n",
    "load_model=pickle.load(open(\"finalized_Model.sav\",'rb'))"
   ]
  },
  {
   "cell_type": "code",
   "execution_count": 3,
   "id": "413acbe4",
   "metadata": {},
   "outputs": [
    {
     "name": "stderr",
     "output_type": "stream",
     "text": [
      "C:\\ProgramData\\anaconda3\\Lib\\site-packages\\sklearn\\base.py:464: UserWarning: X does not have valid feature names, but LinearRegression was fitted with feature names\n",
      "  warnings.warn(\n"
     ]
    }
   ],
   "source": [
    "#Call to Action\n",
    "result=load_model.predict([[0]])"
   ]
  },
  {
   "cell_type": "code",
   "execution_count": 4,
   "id": "e457873a",
   "metadata": {},
   "outputs": [
    {
     "data": {
      "text/plain": [
       "array([[26816.19224403]])"
      ]
     },
     "execution_count": 4,
     "metadata": {},
     "output_type": "execute_result"
    }
   ],
   "source": [
    "result"
   ]
  }
 ],
 "metadata": {
  "kernelspec": {
   "display_name": "Python 3 (ipykernel)",
   "language": "python",
   "name": "python3"
  },
  "language_info": {
   "codemirror_mode": {
    "name": "ipython",
    "version": 3
   },
   "file_extension": ".py",
   "mimetype": "text/x-python",
   "name": "python",
   "nbconvert_exporter": "python",
   "pygments_lexer": "ipython3",
   "version": "3.11.5"
  }
 },
 "nbformat": 4,
 "nbformat_minor": 5
}
